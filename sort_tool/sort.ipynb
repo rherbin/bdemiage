{
 "cells": [
  {
   "cell_type": "code",
   "execution_count": 2,
   "id": "a8f7a7d3",
   "metadata": {},
   "outputs": [
    {
     "name": "stderr",
     "output_type": "stream",
     "text": [
      "2025-10-20 16:02:11.881075: I tensorflow/core/util/port.cc:153] oneDNN custom operations are on. You may see slightly different numerical results due to floating-point round-off errors from different computation orders. To turn them off, set the environment variable `TF_ENABLE_ONEDNN_OPTS=0`.\n",
      "2025-10-20 16:02:12.453350: I tensorflow/core/platform/cpu_feature_guard.cc:210] This TensorFlow binary is optimized to use available CPU instructions in performance-critical operations.\n",
      "To enable the following instructions: AVX2 AVX_VNNI FMA, in other operations, rebuild TensorFlow with the appropriate compiler flags.\n",
      "2025-10-20 16:02:14.011817: I tensorflow/core/util/port.cc:153] oneDNN custom operations are on. You may see slightly different numerical results due to floating-point round-off errors from different computation orders. To turn them off, set the environment variable `TF_ENABLE_ONEDNN_OPTS=0`.\n"
     ]
    }
   ],
   "source": [
    "from deepface import DeepFace\n",
    "import os\n",
    "import pandas as pd"
   ]
  },
  {
   "cell_type": "code",
   "execution_count": 12,
   "id": "0a8084c0",
   "metadata": {},
   "outputs": [
    {
     "name": "stdout",
     "output_type": "stream",
     "text": [
      "25-10-20 16:35:10 - Searching ../public/albums/mic_2025_amiens/100_2019.JPG in 282 length datastore\n",
      "25-10-20 16:35:10 - find function duration 1.6962215900421143 seconds\n",
      "[                                             identity  \\\n",
      "0       ../public/albums/mic_2025_amiens/100_2019.JPG   \n",
      "1       ../public/albums/mic_2025_amiens/100_2010.JPG   \n",
      "2   ../public/albums/mic_2025_amiens/test/100_2010...   \n",
      "3       ../public/albums/mic_2025_amiens/100_2099.JPG   \n",
      "4       ../public/albums/mic_2025_amiens/100_2006.JPG   \n",
      "5   ../public/albums/mic_2025_amiens/test/100_2006...   \n",
      "6       ../public/albums/mic_2025_amiens/100_2095.JPG   \n",
      "7       ../public/albums/mic_2025_amiens/100_2125.JPG   \n",
      "8       ../public/albums/mic_2025_amiens/100_2021.JPG   \n",
      "9       ../public/albums/mic_2025_amiens/100_2140.JPG   \n",
      "10      ../public/albums/mic_2025_amiens/100_2038.JPG   \n",
      "11      ../public/albums/mic_2025_amiens/100_2122.JPG   \n",
      "\n",
      "                                        hash  target_x  target_y  target_w  \\\n",
      "0   a8b0a855f8675a2db067d10f1b4b9186290c6a1e      1295      1208       610   \n",
      "1   0ee55d52860072104d9822a901c1b90a1a0d32c3      1193       547       556   \n",
      "2   3563880cc376907abd4b8793be20edbe4843616a      1193       547       556   \n",
      "3   32d4d3d0c82f07b691c9959673b6fd745b69147a      2458      1246       347   \n",
      "4   235b320b4113b56fce6d249c5a3d620e8599bf8b        20       712       390   \n",
      "5   3aa9fedf1337d4a351e8731231468b76a1129b7e        20       712       390   \n",
      "6   4a16e423367b9cfc1c3d3a0bd32db4cae5d61aea      2531       963       227   \n",
      "7   a4dd056f7c0ea584838af627e7e7d5b18b87da78      1182      1020       840   \n",
      "8   2eafda32c8fa7a467664abd7c5884af09030c161      1005       857       480   \n",
      "9   852793f2c5c28d67697d9163b689e980e2fcd855      1504      1303       932   \n",
      "10  81168099aed80d762b1a68f70ae35b4610e3311d      2302       961       751   \n",
      "11  9bc5b7d64d48da9155df9ca0ca8914ef3e1e9adc       758       582       782   \n",
      "\n",
      "    target_h  threshold  source_x  source_y  source_w  source_h  distance  \\\n",
      "0        610       0.68      1295      1208       610       610  0.017923   \n",
      "1        556       0.68      1295      1208       610       610  0.302682   \n",
      "2        556       0.68      1295      1208       610       610  0.302682   \n",
      "3        347       0.68      1295      1208       610       610  0.467973   \n",
      "4        390       0.68      1295      1208       610       610  0.473635   \n",
      "5        390       0.68      1295      1208       610       610  0.473635   \n",
      "6        227       0.68      1295      1208       610       610  0.508964   \n",
      "7        840       0.68      1295      1208       610       610  0.514408   \n",
      "8        480       0.68      1295      1208       610       610  0.530158   \n",
      "9        932       0.68      1295      1208       610       610  0.596884   \n",
      "10       751       0.68      1295      1208       610       610  0.635080   \n",
      "11       782       0.68      1295      1208       610       610  0.668880   \n",
      "\n",
      "    confidence  \n",
      "0       100.00  \n",
      "1        90.97  \n",
      "2        90.97  \n",
      "3        73.13  \n",
      "4        72.45  \n",
      "5        72.45  \n",
      "6        68.23  \n",
      "7        67.59  \n",
      "8        65.74  \n",
      "9        58.39  \n",
      "10       54.67  \n",
      "11       51.73  ]\n"
     ]
    }
   ],
   "source": [
    "dfs = DeepFace.find(img_path=\"../public/albums/mic_2025_amiens/100_2019.JPG\", db_path=\"../public/albums/mic_2025_amiens\", enforce_detection=False)\n",
    "print(dfs)"
   ]
  },
  {
   "cell_type": "code",
   "execution_count": null,
   "id": "d086d816",
   "metadata": {},
   "outputs": [],
   "source": [
    "import cv2\n",
    "import numpy as np\n",
    "\n",
    "df = dfs[0]\n",
    "\n",
    "for i, row in df.iterrows():\n",
    "    img_path = row[\"identity\"]\n",
    "    # print(\"Chemin absolu :\", os.path.abspath(img_path))\n",
    "    img = cv2.imread(img_path)\n",
    "\n",
    "    if img is None:\n",
    "        print(\"⚠️ Impossible de lire :\", img_path)\n",
    "        continue\n",
    "\n",
    "    # Récupération et validation des coordonnées\n",
    "    x, y, w, h = int(row[\"target_x\"]), int(row[\"target_y\"]), int(row[\"target_w\"]), int(row[\"target_h\"])\n",
    "\n",
    "    # Sécurité : s'assure que le rectangle ne dépasse pas l'image\n",
    "    h_img, w_img = img.shape[:2]\n",
    "    x = max(0, min(x, w_img - 1))\n",
    "    y = max(0, min(y, h_img - 1))\n",
    "    w = max(1, min(w, w_img - x))\n",
    "    h = max(1, min(h, h_img - y))\n",
    "\n",
    "    # ✅ Rectangle noir\n",
    "    cv2.rectangle(img, (x, y), (x + w, y + h), (0, 255, 0), 4)\n",
    "\n",
    "    # Label de confiance\n",
    "    label = f\"{row['confidence']:.1f}%\"\n",
    "    cv2.putText(img, label, (x, max(30, y - 10)), cv2.FONT_HERSHEY_SIMPLEX, 1, (0, 255, 0), 3)\n",
    "\n",
    "    cv2.imshow(\"Visage\", cv2.resize(np.array(img, dtype=np.uint8), None, fx=.25, fy=.25))\n",
    "\n",
    "    key = cv2.waitKey(0)\n",
    "    if key == 27:  # Échap pour quitter\n",
    "        break\n",
    "\n",
    "cv2.destroyAllWindows()"
   ]
  },
  {
   "cell_type": "code",
   "execution_count": null,
   "id": "1c820448",
   "metadata": {},
   "outputs": [],
   "source": []
  }
 ],
 "metadata": {
  "kernelspec": {
   "display_name": "Python 3",
   "language": "python",
   "name": "python3"
  },
  "language_info": {
   "codemirror_mode": {
    "name": "ipython",
    "version": 3
   },
   "file_extension": ".py",
   "mimetype": "text/x-python",
   "name": "python",
   "nbconvert_exporter": "python",
   "pygments_lexer": "ipython3",
   "version": "3.10.12"
  }
 },
 "nbformat": 4,
 "nbformat_minor": 5
}
