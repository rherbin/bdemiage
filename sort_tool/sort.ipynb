{
 "cells": [
  {
   "cell_type": "code",
   "execution_count": 6,
   "id": "a8f7a7d3",
   "metadata": {},
   "outputs": [
    {
     "name": "stdout",
     "output_type": "stream",
     "text": [
      "TensorFlow version: 2.20.0\n",
      "GPU détecté: [PhysicalDevice(name='/physical_device:GPU:0', device_type='GPU')]\n"
     ]
    }
   ],
   "source": [
    "import os\n",
    "import os\n",
    "os.environ[\"CUDA_VISIBLE_DEVICES\"] = \"0\"  # GPU 0\n",
    "os.environ[\"TF_FORCE_GPU_ALLOW_GROWTH\"] = \"true\"\n",
    "from deepface import DeepFace\n",
    "import pandas as pd\n",
    "import tensorflow as tf\n",
    "\n",
    "print(\"TensorFlow version:\", tf.__version__)\n",
    "print(\"GPU détecté:\", tf.config.list_physical_devices('GPU'))"
   ]
  },
  {
   "cell_type": "code",
   "execution_count": 9,
   "id": "0a8084c0",
   "metadata": {},
   "outputs": [
    {
     "name": "stdout",
     "output_type": "stream",
     "text": [
      "25-10-21 12:03:47 - Searching ../public/albums/mic_2025_amiens/100_2037.JPG in 282 length datastore\n",
      "25-10-21 12:03:48 - find function duration 3.336427688598633 seconds\n",
      "[                                             identity  \\\n",
      "0       ../public/albums/mic_2025_amiens/100_2037.JPG   \n",
      "1       ../public/albums/mic_2025_amiens/100_2008.JPG   \n",
      "2   ../public/albums/mic_2025_amiens/test/100_2008...   \n",
      "3       ../public/albums/mic_2025_amiens/100_2045.JPG   \n",
      "4       ../public/albums/mic_2025_amiens/100_2095.JPG   \n",
      "5       ../public/albums/mic_2025_amiens/100_2129.JPG   \n",
      "6       ../public/albums/mic_2025_amiens/100_2092.JPG   \n",
      "7       ../public/albums/mic_2025_amiens/100_2038.JPG   \n",
      "8       ../public/albums/mic_2025_amiens/100_2093.JPG   \n",
      "9       ../public/albums/mic_2025_amiens/100_2094.JPG   \n",
      "10      ../public/albums/mic_2025_amiens/100_2140.JPG   \n",
      "11      ../public/albums/mic_2025_amiens/100_2035.JPG   \n",
      "\n",
      "                                        hash  target_x  target_y  target_w  \\\n",
      "0   da55247f4bc1f7ce13d0b98f0085d02c31070448      1906       848       850   \n",
      "1   618bf53ce55e411eb63ed472e43f7069b0fcbf94      1175       892       684   \n",
      "2   bd0771185835eff5b19efe82f19a868dbd36d3b2      1175       892       684   \n",
      "3   3bbf761535974d718d2d1667130bcc5876d07ae3      2045       203       903   \n",
      "4   ef4ba07e25788a7d502af78365686349b0f28912      2752       917       281   \n",
      "5   0ebe01850a7f0c8d6a72d8535f73008afce4e28c       914      1271       862   \n",
      "6   a418975d9850a59552da8592c0389b3972c0701f      2234      1275       369   \n",
      "7   8fbd18d8b8184cbb00e538ebb4402fd1aa6a9895      1121       951       974   \n",
      "8   f08e87ccd374bdf1348f4ac491b636c4c5632510      2200      1411       359   \n",
      "9   5bfbaf2c987016678167f8b7577d499d3daac1f8      2611      1077       245   \n",
      "10  376d132daadfd99e80428a3b7bf56403bcd26fa9       794       748       976   \n",
      "11  bdf24ff0387811af9fe59f17465f7e44760c3665      1710       408       882   \n",
      "\n",
      "    target_h  threshold  source_x  source_y  source_w  source_h  distance  \\\n",
      "0        850       0.68      1906       848       850       850  0.043635   \n",
      "1        684       0.68      1906       848       850       850  0.281414   \n",
      "2        684       0.68      1906       848       850       850  0.281414   \n",
      "3        903       0.68      1906       848       850       850  0.307539   \n",
      "4        281       0.68      1906       848       850       850  0.333661   \n",
      "5        862       0.68      1906       848       850       850  0.345259   \n",
      "6        369       0.68      1906       848       850       850  0.347393   \n",
      "7        974       0.68      1906       848       850       850  0.419421   \n",
      "8        359       0.68      1906       848       850       850  0.464785   \n",
      "9        245       0.68      1906       848       850       850  0.468956   \n",
      "10       976       0.68      1906       848       850       850  0.583617   \n",
      "11       882       0.68      1906       848       850       850  0.644189   \n",
      "\n",
      "    confidence  \n",
      "0       100.00  \n",
      "1        86.75  \n",
      "2        86.75  \n",
      "3        83.88  \n",
      "4        80.89  \n",
      "5        79.53  \n",
      "6        79.27  \n",
      "7        70.52  \n",
      "8        64.97  \n",
      "9        64.47  \n",
      "10       51.54  \n",
      "11       51.00  ]\n"
     ]
    }
   ],
   "source": [
    "dfs = DeepFace.find(img_path=r\"../public/albums/mic_2025_amiens/100_2037.JPG\",\n",
    "                    db_path=r\"../public/albums/mic_2025_amiens/\",\n",
    "                    enforce_detection=False,\n",
    "                    model_name=\"ArcFace\",\n",
    "                    )\n",
    "print(dfs)"
   ]
  },
  {
   "cell_type": "code",
   "execution_count": 10,
   "id": "d086d816",
   "metadata": {},
   "outputs": [],
   "source": [
    "import cv2\n",
    "import numpy as np\n",
    "\n",
    "df = dfs[0]\n",
    "\n",
    "for i, row in df.iterrows():\n",
    "    img_path = row[\"identity\"]\n",
    "    # print(\"Chemin absolu :\", os.path.abspath(img_path))\n",
    "    img = cv2.imread(img_path)\n",
    "\n",
    "    if img is None:\n",
    "        print(\"⚠️ Impossible de lire :\", img_path)\n",
    "        continue\n",
    "\n",
    "    # Récupération et validation des coordonnées\n",
    "    x, y, w, h = int(row[\"target_x\"]), int(row[\"target_y\"]), int(row[\"target_w\"]), int(row[\"target_h\"])\n",
    "\n",
    "    # Sécurité : s'assure que le rectangle ne dépasse pas l'image\n",
    "    h_img, w_img = img.shape[:2]\n",
    "    x = max(0, min(x, w_img - 1))\n",
    "    y = max(0, min(y, h_img - 1))\n",
    "    w = max(1, min(w, w_img - x))\n",
    "    h = max(1, min(h, h_img - y))\n",
    "\n",
    "    # ✅ Rectangle noir\n",
    "    cv2.rectangle(img, (x, y), (x + w, y + h), (0, 255, 0), 4)\n",
    "\n",
    "    # Label de confiance\n",
    "    label = f\"{row['confidence']:.1f}%\"\n",
    "    cv2.putText(img, label, (x, max(30, y - 10)), cv2.FONT_HERSHEY_SIMPLEX, 1, (0, 255, 0), 3)\n",
    "\n",
    "    cv2.imshow(\"Visage\", cv2.resize(np.array(img, dtype=np.uint8), None, fx=.25, fy=.25))\n",
    "\n",
    "    key = cv2.waitKey(0)\n",
    "    if key == 27:  # Échap pour quitter\n",
    "        break\n",
    "\n",
    "cv2.destroyAllWindows()"
   ]
  },
  {
   "cell_type": "code",
   "execution_count": null,
   "id": "61de2c9a",
   "metadata": {},
   "outputs": [],
   "source": []
  }
 ],
 "metadata": {
  "kernelspec": {
   "display_name": "Python 3",
   "language": "python",
   "name": "python3"
  },
  "language_info": {
   "codemirror_mode": {
    "name": "ipython",
    "version": 3
   },
   "file_extension": ".py",
   "mimetype": "text/x-python",
   "name": "python",
   "nbconvert_exporter": "python",
   "pygments_lexer": "ipython3",
   "version": "3.10.12"
  }
 },
 "nbformat": 4,
 "nbformat_minor": 5
}
